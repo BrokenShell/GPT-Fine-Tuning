{
 "cells": [
  {
   "cell_type": "code",
   "execution_count": 19,
   "metadata": {
    "collapsed": true,
    "ExecuteTime": {
     "end_time": "2023-10-12T18:02:09.357308Z",
     "start_time": "2023-10-12T18:02:09.355557Z"
    }
   },
   "outputs": [],
   "source": [
    "import os\n",
    "import openai\n",
    "from dotenv import load_dotenv\n",
    "import ast\n",
    "import json"
   ]
  },
  {
   "cell_type": "code",
   "execution_count": 2,
   "outputs": [],
   "source": [
    "load_dotenv()\n",
    "openai.api_key = os.getenv(\"OPENAI_API_KEY\")"
   ],
   "metadata": {
    "collapsed": false,
    "ExecuteTime": {
     "end_time": "2023-10-12T17:20:21.843839Z",
     "start_time": "2023-10-12T17:20:21.838012Z"
    }
   }
  },
  {
   "cell_type": "code",
   "execution_count": 3,
   "outputs": [
    {
     "name": "stdout",
     "output_type": "stream",
     "text": [
      "{\n",
      "  \"object\": \"file\",\n",
      "  \"id\": \"file-AARcZzH64IegrDxmCzMFjEjC\",\n",
      "  \"purpose\": \"fine-tune\",\n",
      "  \"filename\": \"file\",\n",
      "  \"bytes\": 7246,\n",
      "  \"created_at\": 1697131334,\n",
      "  \"status\": \"uploaded\",\n",
      "  \"status_details\": null\n",
      "}\n"
     ]
    }
   ],
   "source": [
    "with open(\"training.jsonl\", \"rb\") as file:\n",
    "    result = openai.File.create(file=file, purpose=\"fine-tune\")\n",
    "print(result)"
   ],
   "metadata": {
    "collapsed": false,
    "ExecuteTime": {
     "end_time": "2023-10-12T17:22:14.933534Z",
     "start_time": "2023-10-12T17:22:13.195641Z"
    }
   }
  },
  {
   "cell_type": "code",
   "execution_count": 4,
   "outputs": [
    {
     "name": "stdout",
     "output_type": "stream",
     "text": [
      "{\n",
      "  \"object\": \"fine_tuning.job\",\n",
      "  \"id\": \"ftjob-g5Rl6cUeC0NzKPH5DgzIufd9\",\n",
      "  \"model\": \"gpt-3.5-turbo-0613\",\n",
      "  \"created_at\": 1697131527,\n",
      "  \"finished_at\": null,\n",
      "  \"fine_tuned_model\": null,\n",
      "  \"organization_id\": \"org-9FaMn9oaWBnDYWd8gZY5OfMa\",\n",
      "  \"result_files\": [],\n",
      "  \"status\": \"validating_files\",\n",
      "  \"validation_file\": null,\n",
      "  \"training_file\": \"file-AARcZzH64IegrDxmCzMFjEjC\",\n",
      "  \"hyperparameters\": {\n",
      "    \"n_epochs\": \"auto\"\n",
      "  },\n",
      "  \"trained_tokens\": null,\n",
      "  \"error\": null\n",
      "}\n"
     ]
    }
   ],
   "source": [
    "tune_result = openai.FineTuningJob.create(\n",
    "    training_file=result.get(\"id\"),\n",
    "    model=\"gpt-3.5-turbo\",\n",
    "    suffix=\"etymology\",\n",
    ")\n",
    "print(tune_result)"
   ],
   "metadata": {
    "collapsed": false,
    "ExecuteTime": {
     "end_time": "2023-10-12T17:25:27.079393Z",
     "start_time": "2023-10-12T17:25:25.929706Z"
    }
   }
  },
  {
   "cell_type": "code",
   "execution_count": 7,
   "outputs": [
    {
     "name": "stdout",
     "output_type": "stream",
     "text": [
      "{\n",
      "  \"object\": \"fine_tuning.job\",\n",
      "  \"id\": \"ftjob-g5Rl6cUeC0NzKPH5DgzIufd9\",\n",
      "  \"model\": \"gpt-3.5-turbo-0613\",\n",
      "  \"created_at\": 1697131527,\n",
      "  \"finished_at\": 1697131894,\n",
      "  \"fine_tuned_model\": \"ft:gpt-3.5-turbo-0613:personal:etymology:88tp2w4g\",\n",
      "  \"organization_id\": \"org-9FaMn9oaWBnDYWd8gZY5OfMa\",\n",
      "  \"result_files\": [\n",
      "    \"file-Woox58UhfxO3IX4n0GPbT3iu\"\n",
      "  ],\n",
      "  \"status\": \"succeeded\",\n",
      "  \"validation_file\": null,\n",
      "  \"training_file\": \"file-AARcZzH64IegrDxmCzMFjEjC\",\n",
      "  \"hyperparameters\": {\n",
      "    \"n_epochs\": 10\n",
      "  },\n",
      "  \"trained_tokens\": 17380,\n",
      "  \"error\": null\n",
      "}\n"
     ]
    }
   ],
   "source": [
    "status = openai.FineTuningJob.retrieve(tune_result.get(\"id\"))\n",
    "print(status)"
   ],
   "metadata": {
    "collapsed": false,
    "ExecuteTime": {
     "end_time": "2023-10-12T17:33:00.145954Z",
     "start_time": "2023-10-12T17:32:59.980535Z"
    }
   }
  },
  {
   "cell_type": "code",
   "execution_count": 14,
   "outputs": [
    {
     "name": "stdout",
     "output_type": "stream",
     "text": [
      "{'Word': 'story', 'Word_Origin': 'Middle English from Old French', 'Root_Word': 'estoire', 'Derivation': \"From Old French 'estoire' meaning 'chronicle, history'\", 'Morphological_Variants': ['stories', 'storyteller'], 'Cultural_Context': 'Literature, entertainment, journalism', 'Syntactic_Role': 'Noun', 'Related_Words': ['narrative', 'tale', 'plot'], 'Definition': 'A narrative or tale', 'Synonyms': ['account', 'narrative'], 'Antonyms': ['fact'], 'Phonetic': '/ˈstɔːri/'}\n"
     ]
    }
   ],
   "source": [
    "completion, *_ = openai.ChatCompletion.create(\n",
    "    model=status.get(\"fine_tuned_model\"),\n",
    "    messages=[\n",
    "        {\"role\": \"system\", \"content\": \"Respond with the etymology of the following word\"},\n",
    "        {\"role\": \"user\", \"content\": \"story\"},\n",
    "    ]\n",
    ").choices\n",
    "print(completion.message.content)"
   ],
   "metadata": {
    "collapsed": false,
    "ExecuteTime": {
     "end_time": "2023-10-12T17:51:02.648712Z",
     "start_time": "2023-10-12T17:50:58.952331Z"
    }
   }
  },
  {
   "cell_type": "code",
   "execution_count": 18,
   "outputs": [
    {
     "data": {
      "text/plain": "'{\"Word\": \"story\", \"Word_Origin\": \"Middle English from Old French\", \"Root_Word\": \"estoire\", \"Derivation\": \"From Old French \\'estoire\\' meaning \\'chronicle, history\\'\", \"Morphological_Variants\": [\"stories\", \"storyteller\"], \"Cultural_Context\": \"Literature, entertainment, journalism\", \"Syntactic_Role\": \"Noun\", \"Related_Words\": [\"narrative\", \"tale\", \"plot\"], \"Definition\": \"A narrative or tale\", \"Synonyms\": [\"account\", \"narrative\"], \"Antonyms\": [\"fact\"], \"Phonetic\": \"/\\\\u02c8st\\\\u0254\\\\u02d0ri/\"}'"
     },
     "execution_count": 18,
     "metadata": {},
     "output_type": "execute_result"
    }
   ],
   "source": [
    "json.dumps(ast.literal_eval(completion.message.content))"
   ],
   "metadata": {
    "collapsed": false,
    "ExecuteTime": {
     "end_time": "2023-10-12T17:51:52.433310Z",
     "start_time": "2023-10-12T17:51:52.419347Z"
    }
   }
  },
  {
   "cell_type": "code",
   "execution_count": null,
   "outputs": [],
   "source": [],
   "metadata": {
    "collapsed": false
   }
  }
 ],
 "metadata": {
  "kernelspec": {
   "display_name": "Python 3",
   "language": "python",
   "name": "python3"
  },
  "language_info": {
   "codemirror_mode": {
    "name": "ipython",
    "version": 2
   },
   "file_extension": ".py",
   "mimetype": "text/x-python",
   "name": "python",
   "nbconvert_exporter": "python",
   "pygments_lexer": "ipython2",
   "version": "2.7.6"
  }
 },
 "nbformat": 4,
 "nbformat_minor": 0
}
